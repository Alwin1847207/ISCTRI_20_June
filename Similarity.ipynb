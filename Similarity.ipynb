{
  "nbformat": 4,
  "nbformat_minor": 0,
  "metadata": {
    "colab": {
      "name": "Similarity.ipynb",
      "provenance": []
    },
    "kernelspec": {
      "name": "python3",
      "display_name": "Python 3"
    }
  },
  "cells": [
    {
      "cell_type": "code",
      "metadata": {
        "id": "95KP6OHEM9sS",
        "colab_type": "code",
        "colab": {}
      },
      "source": [
        "from math import sqrt"
      ],
      "execution_count": 12,
      "outputs": []
    },
    {
      "cell_type": "code",
      "metadata": {
        "id": "KnwovGIONIPL",
        "colab_type": "code",
        "colab": {}
      },
      "source": [
        "a1 = [10, 20, 30, 50, 10]\n",
        "b1 = [5, 11, 12, 50, 20]"
      ],
      "execution_count": 13,
      "outputs": []
    },
    {
      "cell_type": "code",
      "metadata": {
        "id": "7FxKrkH6NPfK",
        "colab_type": "code",
        "colab": {}
      },
      "source": [
        "total_sum, suma1, sumb1 = 0, 0, 0"
      ],
      "execution_count": 14,
      "outputs": []
    },
    {
      "cell_type": "code",
      "metadata": {
        "id": "EIB6LpGzNX-Y",
        "colab_type": "code",
        "colab": {}
      },
      "source": [
        "for i, j in zip(a1, b1):\n",
        "  suma1 += i*i\n",
        "  sumb1 += j*j\n",
        "  total_sum += i*j"
      ],
      "execution_count": 15,
      "outputs": []
    },
    {
      "cell_type": "code",
      "metadata": {
        "id": "YHFYp7oKNzAL",
        "colab_type": "code",
        "colab": {}
      },
      "source": [
        "cosine_sim = total_sum / ((sqrt(suma1)) * (sqrt(sumb1)))"
      ],
      "execution_count": 16,
      "outputs": []
    },
    {
      "cell_type": "code",
      "metadata": {
        "id": "L3s4eBVDOBdf",
        "colab_type": "code",
        "colab": {
          "base_uri": "https://localhost:8080/",
          "height": 34
        },
        "outputId": "d67ab85b-adfd-40ee-d19a-c468d2d7f90d"
      },
      "source": [
        "print(cosine_sim)"
      ],
      "execution_count": 17,
      "outputs": [
        {
          "output_type": "stream",
          "text": [
            "0.9322210307414974\n"
          ],
          "name": "stdout"
        }
      ]
    },
    {
      "cell_type": "code",
      "metadata": {
        "id": "E9oVPzm5OW0w",
        "colab_type": "code",
        "colab": {}
      },
      "source": [
        "!pip install gensim\n",
        "!pip install scikit-learn"
      ],
      "execution_count": null,
      "outputs": []
    },
    {
      "cell_type": "code",
      "metadata": {
        "id": "rG2E3vH-R3Wk",
        "colab_type": "code",
        "colab": {}
      },
      "source": [
        "from gensim.test.utils import common_texts\n",
        "from gensim.sklearn_api import W2VTransformer\n",
        "# Create a model to represent each word by a 10 dimensional vector.\n",
        "model = W2VTransformer(size=10, min_count=1, seed=1)\n",
        "# What is the vector representation of the word 'graph'?\n",
        "wordvecs = model.fit(common_texts).transform(['graph', 'system'])"
      ],
      "execution_count": 19,
      "outputs": []
    },
    {
      "cell_type": "code",
      "metadata": {
        "id": "03msovyiSBrv",
        "colab_type": "code",
        "colab": {
          "base_uri": "https://localhost:8080/",
          "height": 102
        },
        "outputId": "cf2eb114-41e6-41c9-b25b-4ba71f276fe5"
      },
      "source": [
        "wordvecs"
      ],
      "execution_count": 20,
      "outputs": [
        {
          "output_type": "execute_result",
          "data": {
            "text/plain": [
              "array([[-0.02973255,  0.01287797, -0.00237326, -0.01969739, -0.02505918,\n",
              "        -0.02609604, -0.00827736,  0.04446112, -0.03518067,  0.04951469],\n",
              "       [-0.025159  , -0.0476876 ,  0.049093  ,  0.00635932, -0.03468722,\n",
              "        -0.01674066, -0.03788678, -0.04939666,  0.03363392, -0.01596813]],\n",
              "      dtype=float32)"
            ]
          },
          "metadata": {
            "tags": []
          },
          "execution_count": 20
        }
      ]
    },
    {
      "cell_type": "code",
      "metadata": {
        "id": "ofstta2dSDPH",
        "colab_type": "code",
        "colab": {}
      },
      "source": [
        ""
      ],
      "execution_count": null,
      "outputs": []
    }
  ]
}